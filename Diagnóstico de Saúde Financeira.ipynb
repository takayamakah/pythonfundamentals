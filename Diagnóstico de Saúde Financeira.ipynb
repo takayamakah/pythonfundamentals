{
 "cells": [
  {
   "cell_type": "code",
   "execution_count": 1,
   "metadata": {},
   "outputs": [],
   "source": [
    "#Programa que irá analisar os gastos do usuário e retornará um diagnóstico financeiro"
   ]
  },
  {
   "cell_type": "code",
   "execution_count": 2,
   "metadata": {},
   "outputs": [],
   "source": [
    "def imprimir_cabecalho():\n",
    "    print('***********DIAGNÓSTICO DE SAÚDE FINANCEIRA***********')"
   ]
  },
  {
   "cell_type": "code",
   "execution_count": 3,
   "metadata": {},
   "outputs": [],
   "source": [
    "def capturar_dados():\n",
    "    RendaMensal = float(input('Qual a sua Renda Mensal? R$ '))\n",
    "    CustoMoradia = float(input('Qual seu custo com Moradia? R$ '))\n",
    "    CustoEducacao = float(input('Qual seu custo com Educação? R$ '))\n",
    "    CustoTransporte = float(input('Qual seu custo com Transporte? R$ '))\n",
    "    \n",
    "    Dados = []    \n",
    "    Dados.append(RendaMensal)\n",
    "    Dados.append(CustoMoradia)\n",
    "    Dados.append(CustoEducacao)\n",
    "    Dados.append(CustoTransporte)    \n",
    "    \n",
    "    return Dados"
   ]
  },
  {
   "cell_type": "code",
   "execution_count": 4,
   "metadata": {},
   "outputs": [],
   "source": [
    "def calcular_maxgastos(RendaMensal):\n",
    "    Moradia = round(RendaMensal * 0.3, 2)\n",
    "    Educacao = round(RendaMensal * 0.2, 2)\n",
    "    Transporte = round(RendaMensal * 0.15, 2)\n",
    "    \n",
    "    MaxGastos = []\n",
    "    MaxGastos.append(Moradia)\n",
    "    MaxGastos.append(Educacao)\n",
    "    MaxGastos.append(Transporte)\n",
    "    \n",
    "    return MaxGastos"
   ]
  },
  {
   "cell_type": "code",
   "execution_count": 5,
   "metadata": {},
   "outputs": [],
   "source": [
    "def calcular_porc_comprometida(Dados):\n",
    "    porc_comp_moradia = round((Dados[1]/Dados[0]) * 100, 2)\n",
    "    porc_comp_educacao = round((Dados[2]/Dados[0]) * 100, 2)\n",
    "    porc_comp_transp = round((Dados[3]/Dados[0]) * 100, 2)\n",
    "    \n",
    "    PorcComp = []\n",
    "    PorcComp.append(porc_comp_moradia)\n",
    "    PorcComp.append(porc_comp_educacao)\n",
    "    PorcComp.append(porc_comp_transp)\n",
    "    \n",
    "    return PorcComp"
   ]
  },
  {
   "cell_type": "code",
   "execution_count": 6,
   "metadata": {},
   "outputs": [],
   "source": [
    "def diagsnostico_saude_financeira(Dados, MaxGastos, PorcComprom):\n",
    "    msg = []\n",
    "    \n",
    "    #Compara Dados de Gastos de Moradia e insere mensagem a ser mostrada no diagnóstico como resultado\n",
    "    if Dados[1] <= MaxGastos[0]:\n",
    "        msg.append(f'Seus gastos totais são de R$ {Dados[1]} e comprometem {PorcComprom[0]}% da sua Renda Mensal. \\nPARABÉNS: Seus gastos estão dentro da margem recomendada.')\n",
    "    else:\n",
    "        msg.append(f'Seus gastos totais são de R$ {Dados[1]} e comprometem {PorcComprom[0]}% da sua Renda Mensal. \\nATENÇÃO: Portanto, idealmente, o máximo de sua renda comprometida deveria ser de R$ {MaxGastos[0]}')\n",
    "\n",
    "    #Compara Dados de Gastos de Educação e insere mensagem a ser mostrada no diagnóstico como resultado\n",
    "    if Dados[2] <= MaxGastos[1]:\n",
    "        msg.append(f'Seus gastos totais são de R$ {Dados[2]} e comprometem {PorcComprom[1]}% da sua Renda Mensal. \\nPARABÉNS: Seus gastos estão dentro da margem recomendada.')\n",
    "    else:\n",
    "        msg.append(f'Seus gastos totais são de R$ {Dados[2]} e comprometem {PorcComprom[1]}% da sua Renda Mensal. \\nATENÇÃO: Portanto, idealmente, o máximo de sua renda comprometida deveria ser de R$ {MaxGastos[2]}')\n",
    "       \n",
    "    #Compara Dados de Gastos de Transporte e insere mensagem a ser mostrada no diagnóstico como resultado\n",
    "    if Dados[3] <= MaxGastos[2]:\n",
    "        msg.append(f'Seus gastos totais são de R$ {Dados[3]} e comprometem {PorcComprom[2]}% da sua Renda Mensal. \\nPARABÉNS: Seus gastos estão dentro da margem recomendada.')\n",
    "    else:\n",
    "        msg.append(f'Seus gastos totais são de R$ {Dados[3]} e comprometem {PorcComprom[2]}% da sua Renda Mensal. \\nATENÇÃO: Portanto, idealmente, o máximo de sua renda comprometida deveria ser de R$ {MaxGastos[3]}')\n",
    "\n",
    "    #Imprimi diagnóstico\n",
    "    print('\\n\\nResultado do seu Diagnóstico de Saúde Financeira:\\n')\n",
    "    print('Moradia:\\n'+msg[0]+'\\n')\n",
    "    print('Educação:\\n'+msg[1]+'\\n')\n",
    "    print('Transporte:\\n'+msg[2]+'\\n')\n",
    "    print('\\nMuito Obrigado! Espero que tenha gostado!')"
   ]
  },
  {
   "cell_type": "code",
   "execution_count": 7,
   "metadata": {},
   "outputs": [
    {
     "name": "stdout",
     "output_type": "stream",
     "text": [
      "***********DIAGNÓSTICO DE SAÚDE FINANCEIRA***********\n",
      "\n",
      "\n",
      "Qual a sua Renda Mensal? R$ 3000\n",
      "Qual seu custo com Moradia? R$ 1320\n",
      "Qual seu custo com Educação? R$ 400\n",
      "Qual seu custo com Transporte? R$ 300\n",
      "\n",
      "\n",
      "Resultado do seu Diagnóstico de Saúde Financeira:\n",
      "\n",
      "Moradia:\n",
      "Seus gastos totais são de R$ 1320.0 e comprometem 44.0% da sua Renda Mensal. \n",
      "ATENÇÃO: Portanto, idealmente, o máximo de sua renda comprometida deveria ser de R$ 900.0\n",
      "\n",
      "Educação:\n",
      "Seus gastos totais são de R$ 400.0 e comprometem 13.33% da sua Renda Mensal. \n",
      "PARABÉNS: Seus gastos estão dentro da margem recomendada.\n",
      "\n",
      "Transporte:\n",
      "Seus gastos totais são de R$ 300.0 e comprometem 10.0% da sua Renda Mensal. \n",
      "PARABÉNS: Seus gastos estão dentro da margem recomendada.\n",
      "\n",
      "\n",
      "Muito Obrigado! Espero que tenha gostado!\n"
     ]
    }
   ],
   "source": [
    "imprimir_cabecalho()\n",
    "\n",
    "DadosCapturados = capturar_dados()\n",
    "MaxGastosCalculados = calcular_maxgastos(DadosCapturados[0])\n",
    "PorcCompromCalculada = calcular_porc_comprometida(DadosCapturados)\n",
    "\n",
    "diagsnostico_saude_financeira(DadosCapturados, MaxGastosCalculados, PorcCompromCalculada)"
   ]
  }
 ],
 "metadata": {
  "kernelspec": {
   "display_name": "Python 3",
   "language": "python",
   "name": "python3"
  },
  "language_info": {
   "codemirror_mode": {
    "name": "ipython",
    "version": 3
   },
   "file_extension": ".py",
   "mimetype": "text/x-python",
   "name": "python",
   "nbconvert_exporter": "python",
   "pygments_lexer": "ipython3",
   "version": "3.8.5"
  }
 },
 "nbformat": 4,
 "nbformat_minor": 4
}
