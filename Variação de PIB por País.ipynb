{
 "cells": [
  {
   "cell_type": "code",
   "execution_count": 1,
   "metadata": {},
   "outputs": [],
   "source": [
    "#Programa que retorna relatório de países e suas variações dos PIBs "
   ]
  },
  {
   "cell_type": "code",
   "execution_count": 2,
   "metadata": {},
   "outputs": [],
   "source": [
    "import pandas as pd"
   ]
  },
  {
   "cell_type": "code",
   "execution_count": 3,
   "metadata": {},
   "outputs": [],
   "source": [
    "#Lê arquivo csv\n",
    "def ler_csv():\n",
    "    ds = pd.read_csv('Assessment_PIBs - Planilha1.csv')\n",
    "    return ds"
   ]
  },
  {
   "cell_type": "code",
   "execution_count": 4,
   "metadata": {},
   "outputs": [],
   "source": [
    "#Calcula variação dos países\n",
    "def calcular_variacao():    \n",
    "    paises = []\n",
    "    variacoes = []\n",
    "    msgs_variacoes = []\n",
    "    \n",
    "    for i in range(len(ds)):\n",
    "        ultimoano = ds.iloc[i][len(ds.columns)-1]\n",
    "        primeiroano = ds.iloc[i][1]\n",
    "        variacao = round(((ultimoano/primeiroano)-1)*100, 2) \n",
    "        \n",
    "        if variacao > 0:\n",
    "            msg_variacao = (f'O PIB aumentou em {variacao}% de {ds.columns[1]} a {ds.columns[len(ds.columns)-1]}')\n",
    "        else:\n",
    "            msg_variacao = (f'O PIB diminuiu em {(variacao)}% de {ds.columns[1]} a {ds.columns[len(ds.columns)-1]}')\n",
    "            \n",
    "        paises.append(ds.iloc[i][0])\n",
    "        variacoes.append(variacao)    \n",
    "        msgs_variacoes.append(msg_variacao)\n",
    "        \n",
    "    Resultado['Países'] = paises\n",
    "    Resultado['Variações'] = variacoes \n",
    "    Resultado['MensagensVariações'] = msgs_variacoes "
   ]
  },
  {
   "cell_type": "code",
   "execution_count": 5,
   "metadata": {},
   "outputs": [],
   "source": [
    "#Imprime resultado em tela\n",
    "def imprimir_resultado(): \n",
    "    dados = pd.DataFrame(Resultado)\n",
    "    dados = dados.sort_values(by=['Variações','Países'], ascending=False)\n",
    "    \n",
    "    ds_var = dados[['Países','MensagensVariações']]\n",
    "    ds_var = ds_var.rename(columns={'MensagensVariações': 'Variações'})\n",
    "    \n",
    "    print(f'\\nAnálise por País da Variação de PIB ({ds.columns[1]}/{ds.columns[len(ds.columns)-1]})\\n')\n",
    "    print(ds_var)"
   ]
  },
  {
   "cell_type": "code",
   "execution_count": 6,
   "metadata": {
    "scrolled": true
   },
   "outputs": [
    {
     "name": "stdout",
     "output_type": "stream",
     "text": [
      "\n",
      "Análise por País da Variação de PIB (2013/2020)\n",
      "\n",
      "           Países                                 Variações\n",
      "8           Índia   O PIB aumentou em 94.65% de 2013 a 2020\n",
      "1           China   O PIB aumentou em 70.72% de 2013 a 2020\n",
      "11  Coreia do Sul   O PIB aumentou em 54.62% de 2013 a 2020\n",
      "4     Reino Unido   O PIB aumentou em 39.18% de 2013 a 2020\n",
      "0             EUA   O PIB aumentou em 34.13% de 2013 a 2020\n",
      "13         México   O PIB aumentou em 30.95% de 2013 a 2020\n",
      "10         Canadá   O PIB aumentou em 11.48% de 2013 a 2020\n",
      "3        Alemanha    O PIB aumentou em 9.92% de 2013 a 2020\n",
      "5          França     O PIB aumentou em 7.5% de 2013 a 2020\n",
      "12        Espanha    O PIB aumentou em 6.47% de 2013 a 2020\n",
      "7          Itália    O PIB aumentou em 1.88% de 2013 a 2020\n",
      "9          Rússia    O PIB aumentou em 0.48% de 2013 a 2020\n",
      "2           Japão     O PIB aumentou em 0.2% de 2013 a 2020\n",
      "6          Brasil   O PIB diminuiu em -1.67% de 2013 a 2020\n",
      "14      Indonésia  O PIB diminuiu em -85.76% de 2013 a 2020\n"
     ]
    }
   ],
   "source": [
    "Resultado = {}\n",
    "\n",
    "ds = ler_csv()\n",
    "\n",
    "calcular_variacao()\n",
    "imprimir_resultado()"
   ]
  }
 ],
 "metadata": {
  "kernelspec": {
   "display_name": "Python 3",
   "language": "python",
   "name": "python3"
  },
  "language_info": {
   "codemirror_mode": {
    "name": "ipython",
    "version": 3
   },
   "file_extension": ".py",
   "mimetype": "text/x-python",
   "name": "python",
   "nbconvert_exporter": "python",
   "pygments_lexer": "ipython3",
   "version": "3.8.5"
  }
 },
 "nbformat": 4,
 "nbformat_minor": 4
}
