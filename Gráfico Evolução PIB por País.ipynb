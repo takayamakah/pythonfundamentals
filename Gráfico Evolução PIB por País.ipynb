{
 "cells": [
  {
   "cell_type": "code",
   "execution_count": 1,
   "metadata": {},
   "outputs": [],
   "source": [
    "#Programa que solicita País e retorna evolução do PIB em gráfico"
   ]
  },
  {
   "cell_type": "code",
   "execution_count": 2,
   "metadata": {},
   "outputs": [],
   "source": [
    "import pandas as pd\n",
    "import matplotlib.pyplot as plt"
   ]
  },
  {
   "cell_type": "code",
   "execution_count": 3,
   "metadata": {},
   "outputs": [],
   "source": [
    "#Imprime Cabeçalho do Programa\n",
    "def imprimir_cabecalho():\n",
    "    print('**************EVOLUÇÃO DO PIB POR PAÍS**************\\n\\n')"
   ]
  },
  {
   "cell_type": "code",
   "execution_count": 4,
   "metadata": {},
   "outputs": [],
   "source": [
    "#Lê arquivo csv\n",
    "def ler_csv():\n",
    "    ds = pd.read_csv('Assessment_PIBs - Planilha1.csv')\n",
    "    return ds"
   ]
  },
  {
   "cell_type": "code",
   "execution_count": 5,
   "metadata": {},
   "outputs": [],
   "source": [
    "#Captura dados de País em tela\n",
    "def capturar_dados():\n",
    "    validador = False\n",
    "\n",
    "    while not validador:\n",
    "        try:\n",
    "            #Capturo em tela qual o país desejado\n",
    "            pais = input('Informe um país: ')\n",
    "\n",
    "            if (len(ds.loc[ds['País'] == pais]) == 0):\n",
    "                print('\\nPaís não disponível! Digite outro país.\\n')\n",
    "            else:                                \n",
    "                validador = True\n",
    "        except:\n",
    "            print('\\nValor Inválido! Digite novamente o valor correto.\\n')\n",
    "    \n",
    "    return pais"
   ]
  },
  {
   "cell_type": "code",
   "execution_count": 6,
   "metadata": {},
   "outputs": [],
   "source": [
    "#Preparar dados para gráfico\n",
    "def preparar_dados():    \n",
    "    ds_gf = ds.loc[ds['País'] == pais]\n",
    "    ds_gf = ds_gf.iloc[:,1:len(ds.columns)]         \n",
    "    \n",
    "    PIB['Colunas'] = list(ds.columns[1:])\n",
    "    PIB['Valores'] = ds_gf.values[0]\n",
    "    \n",
    "    return PIB"
   ]
  },
  {
   "cell_type": "code",
   "execution_count": 7,
   "metadata": {},
   "outputs": [],
   "source": [
    "#Imprime resultado em tela\n",
    "def imprimir_grafico(): \n",
    "    plt.bar(PIB['Colunas'], PIB['Valores'], color=\"pink\")\n",
    "    plt.xlabel('Ano')\n",
    "    plt.ylabel('Valores em Trilhões (US$)')\n",
    "    plt.title(f'Evolução PIB \"{pais}\"')\n",
    "    plt.show() \n",
    "    \n",
    "    print(ds.loc[ds['País'] == pais])"
   ]
  },
  {
   "cell_type": "code",
   "execution_count": 8,
   "metadata": {
    "scrolled": true
   },
   "outputs": [
    {
     "name": "stdout",
     "output_type": "stream",
     "text": [
      "Informe um país: Brasil\n"
     ]
    },
    {
     "data": {
      "image/png": "[encoded data removed]",
      "text/plain": [
       "<Figure size 432x288 with 1 Axes>"
      ]
     },
     "metadata": {
      "needs_background": "light"
     },
     "output_type": "display_data"
    },
    {
     "name": "stdout",
     "output_type": "stream",
     "text": [
      "     País  2013  2014  2015  2016  2017  2018  2019  2020\n",
      "6  Brasil  2.39  2.35   1.9  1.92  2.03  2.13  2.24  2.35\n"
     ]
    }
   ],
   "source": [
    "PIB = {}\n",
    "ds = ler_csv()\n",
    "pais = capturar_dados()\n",
    "preparar_dados()\n",
    "imprimir_grafico()"
   ]
  }
 ],
 "metadata": {
  "kernelspec": {
   "display_name": "Python 3",
   "language": "python",
   "name": "python3"
  },
  "language_info": {
   "codemirror_mode": {
    "name": "ipython",
    "version": 3
   },
   "file_extension": ".py",
   "mimetype": "text/x-python",
   "name": "python",
   "nbconvert_exporter": "python",
   "pygments_lexer": "ipython3",
   "version": "3.8.5"
  }
 },
 "nbformat": 4,
 "nbformat_minor": 4
}
