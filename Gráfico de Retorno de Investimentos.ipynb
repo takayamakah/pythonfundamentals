{
 "cells": [
  {
   "cell_type": "code",
   "execution_count": 1,
   "metadata": {},
   "outputs": [],
   "source": [
    "#Programa que cálcula Juros Composto"
   ]
  },
  {
   "cell_type": "code",
   "execution_count": 2,
   "metadata": {},
   "outputs": [],
   "source": [
    "import matplotlib.pyplot as plt"
   ]
  },
  {
   "cell_type": "code",
   "execution_count": 3,
   "metadata": {},
   "outputs": [],
   "source": [
    "def imprimir_cabecalho():\n",
    "    print('******************GRÁFICO DE INVESTIMENTOS******************\\n\\n')"
   ]
  },
  {
   "cell_type": "code",
   "execution_count": 4,
   "metadata": {},
   "outputs": [],
   "source": [
    "def capturar_dados():\n",
    "    validador = False\n",
    "\n",
    "    while not validador:\n",
    "        try:\n",
    "            ValorInicial = round(float(input('Valor Inicial: R$ ').replace(',', '.')), 2)\n",
    "            RendimentoPeriodo = float(input('Rendimento por Período (%): ').replace(',', '.'))/100\n",
    "            AportePeriodo = round(float(input('Aporte por Período: R$ ').replace(',', '.')), 2)\n",
    "            TotalPeriodos = int(input('Total de Períodos: ').replace(',', '.'))\n",
    "\n",
    "            Dados = []\n",
    "            Dados.append(ValorInicial)\n",
    "            Dados.append(RendimentoPeriodo)\n",
    "            Dados.append(AportePeriodo)\n",
    "            Dados.append(TotalPeriodos)\n",
    "\n",
    "            if (ValorInicial > 0) and (RendimentoPeriodo > 0) and (AportePeriodo > 0) and (TotalPeriodos > 0):\n",
    "                validador = True\n",
    "                return Dados\n",
    "            else:\n",
    "                print('Digite novamente as informações com valores maiores que 0 (zero)!')\n",
    "        except:\n",
    "            print('Digite novamente as informações corretas!')"
   ]
  },
  {
   "cell_type": "code",
   "execution_count": 5,
   "metadata": {},
   "outputs": [],
   "source": [
    "def calcular_juros_composto(Valor, Rendimento, Aporte):\n",
    "    Total = round((Valor + (Valor * Rendimento) + Aporte), 2)\n",
    "    \n",
    "    return Total"
   ]
  },
  {
   "cell_type": "code",
   "execution_count": 6,
   "metadata": {},
   "outputs": [],
   "source": [
    "def imprimir_grafico(Dados):\n",
    "    Inicial = Dados[0]\n",
    "    Rendimento = Dados[1]\n",
    "    Aporte = Dados[2]\n",
    "    TotalPeriodo = Dados[3]\n",
    "    \n",
    "    Periodos = []\n",
    "    Valores = []\n",
    "    \n",
    "    print('\\n\\nResultado por períodos: \\n')\n",
    "    for i in range(TotalPeriodo):        \n",
    "        ValorTotal = calcular_juros_composto(Inicial, Rendimento, Aporte)        \n",
    "        Inicial = ValorTotal\n",
    "        \n",
    "        Periodos.append(f'{i+1}')\n",
    "        Valores.append(ValorTotal)\n",
    "        \n",
    "    plt.bar(Periodos, Valores, color=\"pink\")\n",
    "    plt.xlabel('Períodos')\n",
    "    plt.ylabel('Retorno em Reais (R$)')\n",
    "    plt.title('Retorno de Investimentos')\n",
    "    plt.show()        \n",
    "        \n",
    "    print(f'\\n\\nO Valor Total Acumulado é de : R${ValorTotal}')"
   ]
  },
  {
   "cell_type": "code",
   "execution_count": 7,
   "metadata": {},
   "outputs": [
    {
     "name": "stdout",
     "output_type": "stream",
     "text": [
      "******************GRÁFICO DE INVESTIMENTOS******************\n",
      "\n",
      "\n",
      "Valor Inicial: R$ 10000\n",
      "Rendimento por Período (%): 0,54\n",
      "Aporte por Período: R$ 1000\n",
      "Total de Períodos: 10\n",
      "\n",
      "\n",
      "Resultado por períodos: \n",
      "\n"
     ]
    },
    {
     "data": {
      "image/png": "[encoded data removed]",
      "text/plain": [
       "<Figure size 432x288 with 1 Axes>"
      ]
     },
     "metadata": {
      "needs_background": "light"
     },
     "output_type": "display_data"
    },
    {
     "name": "stdout",
     "output_type": "stream",
     "text": [
      "\n",
      "\n",
      "O Valor Total Acumulado é de : R$20799.83\n"
     ]
    }
   ],
   "source": [
    "imprimir_cabecalho()\n",
    "\n",
    "DadosCapturados = capturar_dados()\n",
    "imprimir_grafico(DadosCapturados)"
   ]
  }
 ],
 "metadata": {
  "kernelspec": {
   "display_name": "Python 3",
   "language": "python",
   "name": "python3"
  },
  "language_info": {
   "codemirror_mode": {
    "name": "ipython",
    "version": 3
   },
   "file_extension": ".py",
   "mimetype": "text/x-python",
   "name": "python",
   "nbconvert_exporter": "python",
   "pygments_lexer": "ipython3",
   "version": "3.8.5"
  }
 },
 "nbformat": 4,
 "nbformat_minor": 4
}
