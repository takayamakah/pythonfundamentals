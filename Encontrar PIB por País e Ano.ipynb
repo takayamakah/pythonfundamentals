{
 "cells": [
  {
   "cell_type": "code",
   "execution_count": 1,
   "metadata": {},
   "outputs": [],
   "source": [
    "#Programa que solicita País/Ano e retorna valor do PIB"
   ]
  },
  {
   "cell_type": "code",
   "execution_count": 2,
   "metadata": {},
   "outputs": [],
   "source": [
    "import pandas"
   ]
  },
  {
   "cell_type": "code",
   "execution_count": 3,
   "metadata": {},
   "outputs": [],
   "source": [
    "#Imprime Cabeçalho do Programa\n",
    "def imprimir_cabecalho():\n",
    "    print('***********************ANÁLISE DE PIB POR PAÍS E ANO************************\\n\\n')"
   ]
  },
  {
   "cell_type": "code",
   "execution_count": 4,
   "metadata": {},
   "outputs": [],
   "source": [
    "#Lê arquivo csv\n",
    "def ler_csv():\n",
    "    ds = pandas.read_csv('Assessment_PIBs - Planilha1.csv')\n",
    "    #print(ds)\n",
    "    return ds"
   ]
  },
  {
   "cell_type": "code",
   "execution_count": 5,
   "metadata": {},
   "outputs": [],
   "source": [
    "#Captura dados de País e Ano em tela\n",
    "def capturar_dados(ds):\n",
    "    validador = False\n",
    "\n",
    "    while not validador:\n",
    "        try:\n",
    "            #Capturo em tela qual o país e ano desejados\n",
    "            pais = input('País: ')\n",
    "            ano = input('Ano: ')\n",
    "\n",
    "            if (len(ds.loc[ds['País'] == pais]) == 0):\n",
    "                print('\\nPaís não disponível! Digite outro país.\\n')\n",
    "            elif not (ano in ds.columns):\n",
    "                print('\\nAno não disponível! Digite outro ano.\\n')\n",
    "            else:                                \n",
    "                validador = True\n",
    "        except:\n",
    "            print('\\nValores Inválidos! Digite novamente os valores corretos.\\n')\n",
    "            \n",
    "    Dados = []\n",
    "    Dados.append(pais)\n",
    "    Dados.append(ano)\n",
    "    \n",
    "    return Dados"
   ]
  },
  {
   "cell_type": "code",
   "execution_count": 6,
   "metadata": {},
   "outputs": [],
   "source": [
    "#Imprime resultado em tela\n",
    "def imprimir_resultado(pais, ano):\n",
    "    index_pais = ds.loc[ds['País'] == pais].index[0]\n",
    "    index_ano = ds.columns.get_loc(ano)\n",
    "\n",
    "    print('\\nAnálise de PIB')\n",
    "    print(f'País: {pais}')\n",
    "    print(f'Ano: {ano}')\n",
    "    print(f'PIB: {ds.iloc[index_pais][index_ano]}')\n",
    "    print('\\nFim do Programa!\\n')"
   ]
  },
  {
   "cell_type": "code",
   "execution_count": 7,
   "metadata": {},
   "outputs": [
    {
     "name": "stdout",
     "output_type": "stream",
     "text": [
      "***********************ANÁLISE DE PIB POR PAÍS E ANO************************\n",
      "\n",
      "\n",
      "País: Brasil\n",
      "Ano: 2016\n",
      "\n",
      "Análise de PIB\n",
      "País: Brasil\n",
      "Ano: 2016\n",
      "PIB: 1.92\n",
      "\n",
      "Fim do Programa!\n",
      "\n"
     ]
    }
   ],
   "source": [
    "imprimir_cabecalho()\n",
    "ds = ler_csv()\n",
    "Dados = capturar_dados(ds)\n",
    "imprimir_resultado(Dados[0], Dados[1])"
   ]
  },
  {
   "cell_type": "code",
   "execution_count": null,
   "metadata": {},
   "outputs": [],
   "source": []
  }
 ],
 "metadata": {
  "kernelspec": {
   "display_name": "Python 3",
   "language": "python",
   "name": "python3"
  },
  "language_info": {
   "codemirror_mode": {
    "name": "ipython",
    "version": 3
   },
   "file_extension": ".py",
   "mimetype": "text/x-python",
   "name": "python",
   "nbconvert_exporter": "python",
   "pygments_lexer": "ipython3",
   "version": "3.8.5"
  }
 },
 "nbformat": 4,
 "nbformat_minor": 4
}
